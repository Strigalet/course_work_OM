{
  "nbformat": 4,
  "nbformat_minor": 0,
  "metadata": {
    "colab": {
      "name": "Касіч Богдан Володимирович КМ-83 Курсова робота.ipynb",
      "provenance": [],
      "collapsed_sections": []
    },
    "kernelspec": {
      "name": "python3",
      "display_name": "Python 3"
    },
    "language_info": {
      "name": "python"
    }
  },
  "cells": [
    {
      "cell_type": "markdown",
      "metadata": {
        "id": "XJ0uEHCP3QX0"
      },
      "source": [
        "<left>\n",
        "    <img src=\"https://kpi.ua/files/images/kpi.png\" width=\"300\" alt=\"kpi logo\"  />\n",
        "</left>"
      ]
    },
    {
      "cell_type": "markdown",
      "metadata": {
        "id": "UW8WW6kI3U2i"
      },
      "source": [
        "# Касіч Богдан Володимирович КМ-83 Комплексний метод при мінімізації степеневої функції\n"
      ]
    },
    {
      "cell_type": "markdown",
      "metadata": {
        "id": "c9RqLmWS30J1"
      },
      "source": [
        "## Зміст"
      ]
    },
    {
      "cell_type": "markdown",
      "metadata": {
        "id": "YyuemlPT3wwa"
      },
      "source": [
        "* Зміст\n",
        "* Постановка задачі\n",
        "* Теоретичні відомості\n",
        "  * Степенева функція\n",
        "  * Комплексний метод\n",
        "  * Алгоритм метода комплексів\n",
        "* Реалізація методу\n",
        "  * Імпортування необхідних бібліотек\n",
        "  * Оголошення необхідних функцій\n",
        "  * Виконання досліджень\n",
        "* Висновки\n",
        "* Список використаної літератури"
      ]
    },
    {
      "cell_type": "markdown",
      "metadata": {
        "id": "sYsqHR-B4BNm"
      },
      "source": [
        "## Постановка задачі"
      ]
    },
    {
      "cell_type": "markdown",
      "metadata": {
        "id": "rF8asG-n4H-c"
      },
      "source": [
        "Використати комплексний метод для умовної оптимізації в залежності від:\n",
        "1.\tРозміру початкового комплексу.\n",
        "2.\tЗначень параметра редукції комплексу.\n",
        "3.\tМодифікацій метода.\n",
        "4.\tРозташування локального мінімума (всередині / поза допустимою областю).\n",
        "5.\tВиду допустимої області (випукла / невипукла / з лінійними обмеженнями).\n",
        "6.\tЗначення параметру кроку в алгоритмі Свена.\n"
      ]
    },
    {
      "cell_type": "markdown",
      "metadata": {
        "id": "ThKr70BX45cX"
      },
      "source": [
        "## Теоретичні відомості"
      ]
    },
    {
      "cell_type": "markdown",
      "metadata": {
        "id": "cK56OOJHpBIW"
      },
      "source": [
        "### Степенева функція\n",
        "\n",
        "$$f(x_1,x_2)=(10(x_1-x_2)^2+(x_1-1)^2)^4$$"
      ]
    },
    {
      "cell_type": "markdown",
      "metadata": {
        "id": "_iMTMWOg47Xz"
      },
      "source": [
        "### Комплексний метод\n",
        "Комплексний метод був розроблений Боксом для задач нелінійного програмування з обмеженнями типу нерівностей. Цей метод виник з симплексного методу. Якщо при використанні методу Нелдера - Міда для вирішення задач умовної оптимізації часто зустрічаються повторювані обмеження, це призводить до того, що:\n",
        "- Необхідно кожен раз видаляти недопустиму вершину багатогранника поки не буде отримана допустима вершина. При цьому\n",
        "\n",
        "      a. багатогранник може стати меншою розмірності ((n-1) і менше);\n",
        "\n",
        "      b. процедура пошуку сповільнюється.\n",
        "- Якщо це обмеження перестає бути активним, то такий «стислий» багатогранник важко «розтягнути» в n-мірний.\n",
        "\n",
        "Бокс обрав багатогранник з більш ніж (n + 1) вершинами і назвав його комплексом.\n",
        "\n",
        "Множина пробних точок будуються послідовно випадковим чином:\n",
        "\n",
        "$$ x_i = x^L_i + r_i(x^{(U)}-x_i^{(L)})     \\quad \\quad      i = 1, ..., n, \\quad де$$\n",
        "$x_i$ - і-та змінна n-вимірного вектора $\\overline{x};$\n",
        "\n",
        "$x_i^{(U)}$ - верхня границя змінної;\n",
        "\n",
        "$x_i^{(L)}$ - нижня границя змінної;\n",
        "\n",
        "$r_i$ - випадкові числа, рівномірно розподілені на інтервалі [0, 1] (датчик псевдовипадкових чисел).\n",
        "\n",
        "Кожна точка перевіряється на допустимість. Якщо обмеження порушено, ця точка зсувається до центру тяжіння вже побудованих точок до тих пір, поки не стане допустимою. Якщо допустимі межі змінних невідомі, вихідний багатогранник вибирається так, щоб він покривав область пошуку. Потім в кожній точці обчислюється значення цільової функції. Точка з найгіршим значенням відкидається, а нова точка виходить шляхом відображення відкидаємої точки через центр тяжіння інших точок за такою формулою:\n",
        "\n",
        "$$x_{нов} = x_c + \\alpha(x_c-x^h)$$\n",
        "де\n",
        "\n",
        "$x_c$ - центр тяжіння інших точок\n",
        "\n",
        "$x_h$ - точка відображення\n",
        "\n",
        "$\\alpha$ - коефіцієнт відображення: при $\\alpha$ = 1 - симетричне відображення, при $\\alpha$ > 1 - розтягнення, при $\\alpha$  < 1 - стиснення.\n",
        "\n",
        "В отриманій точці обчислюється значення цільової функції і перевіряється виконання обмежень, це може привести до наступних ситуацій:\n",
        "\n",
        "1) $x_{нов}$- допустима точка і $f(x_{нов}) < f_{max}(x)$. Вибирається нова точка, якій відповідає максимальне значення функції, і відображається.\n",
        "\n",
        "2) $x_{нов}$- допустима точка значення цільової функції в ній збігається з максимальним значенням. Замість відображення ця точка пересувається на половину відстані до центру тяжіння (інакше можливе зациклення).\n",
        "\n",
        "3) $x_{нов}$- недопустима точка. Точка пересувається на половину відстані до центру тяжіння.\n",
        "\n",
        "Процедура стягує багатогранник в центр тяжіння з заданою точністю (різниця між значеннями цільової функції в вершинах).\n",
        "\n",
        "Для запобігання \"сплюснення\" багатогранника, коли пошук відбувається поблизу обмежень, Бокс запропонував такі значення параметрів:\n",
        "\n",
        "$\\alpha \\approx 1.3$\n",
        "\n",
        "$p = 2n$ - кількість вершин."
      ]
    },
    {
      "cell_type": "markdown",
      "metadata": {
        "id": "-0YroDamJZKy"
      },
      "source": [
        "### Алгоритм метода комплексів\n",
        "Вихідні дані:\n",
        "\n",
        "Строго допустима точка $x_0$,\n",
        "\n",
        "параметр відображення $\\alpha$,\n",
        "\n",
        "параметри закінчення $\\varepsilon,\\delta$\n",
        "\n",
        "####I. Побудова початкового комплексу, що складається з $p$ допустимих точок, $p = 1,2, ...,P-1.$\n",
        "\n",
        "\n",
        "\n",
        "1) Випадковим чином визначити координати $x^p$.\n",
        "\n",
        "2) Якщо $x_p$- недопустима точка, знайти центр тяжіння вже знайдених точок і обчислити\n",
        "\n",
        "$x^p = x^p + \\frac{1}{2}(x_c-x^p)$\n",
        " \n",
        "і повторювати цю процедуру поки $x^p$ не стане допустимою точкою.\n",
        "\n",
        "3) Якщо $x^p$ - допустима точка і $p < P$, повторювати 1) і 2), поки $p = P$.\n",
        "\n",
        "4) Обчислити $f(x^p)$ для $p = 1,2, ..., P-1.$\n",
        "\n",
        "####II. Відображення комплексу.\n",
        "\n",
        "1) Обрати точку, для якої\n",
        "$$f(x^h) = maxf(x^p) = F_{max}.$$\n",
        "2) Знайти центр тяжіння $x_c$ і нову точку $x_{нов}$\n",
        "\n",
        "$$x_{нов}=x_c+\\alpha(x_c-x^h).$$\n",
        "c. Якщо $x_{нов}$- допустима точка і $f(x_{нов})\\geq F_{max}$, зменшити в  два рази відстань між $x_{нов}$ і центром тяжіння $x_c$ та продовжувати поки $f(x_{нов})< F_{max}$.\n",
        "  \n",
        "$$x_{нов} = x_{нов} + \\frac{1}{2}(x_c-x_{нов}).$$\n",
        "d. Якщо $x_{нов}$- недопустима точка, перейти до п.III. Якщо $x_{нов}$- допустима точка і $f(x_{нов})< F_{max}$, перейти до п.IV.\n",
        "\n",
        "####III. Коригування для перевірки допустимості.\n",
        "\n",
        "Якщо $x_{нов}$- недопустима точка, зменшувати в два рази відстань до центру тяжіння, поки $x_{нов}$ не стане допустимою точкою.\n",
        "\n",
        "####VI. Перевірка закінчення пошуку.\n",
        "1) $\\overline{f}=\\frac{1}{p}\\sum f(x^p), \\quad\\quad \\overline{x}=\\frac{1}{p}\\sum x^p.$\n",
        "\n",
        "2) Якщо $\\sqrt{\\frac{1}{p}\\sum_{p}(f(x^p)-\\overline{f})^2}\\leq \\varepsilon$ та $\\sum_p(x^p-\\overline{x})^2\\leq \\delta$\n",
        "\n",
        "обчислення закінчуються, інакше перехід до п. II. 1).\n",
        "\n",
        "Для неопуклих областей метод розходиться."
      ]
    },
    {
      "cell_type": "markdown",
      "metadata": {
        "id": "Ddzb0Eo6fSnP"
      },
      "source": [
        "## Реалізація методу"
      ]
    },
    {
      "cell_type": "markdown",
      "metadata": {
        "id": "e6AzeBTqfXgk"
      },
      "source": [
        "### Імпортування необхідних бібліотек"
      ]
    },
    {
      "cell_type": "code",
      "metadata": {
        "id": "YI3a8GZxYmxv"
      },
      "source": [
        "import numpy as np\n",
        "from random import random\n",
        "import matplotlib.pyplot as plt\n",
        "import math"
      ],
      "execution_count": 1,
      "outputs": []
    },
    {
      "cell_type": "markdown",
      "metadata": {
        "id": "HyYBYmWEfYNJ"
      },
      "source": [
        "### Оголошення необхідних функцій"
      ]
    },
    {
      "cell_type": "code",
      "metadata": {
        "id": "-vxuVk2yY2V7"
      },
      "source": [
        "def func(x1,x2):\n",
        "  return (10*(x1-x2)**2+(x1-1)**2)**4\n",
        " \n",
        "\n",
        "def sven(x0, S, h=0.001):\n",
        "\n",
        "    x = [x0]\n",
        "    y0 = func(x0[0],x0[1])\n",
        "    y = [y0]\n",
        "    s = 0\n",
        "\n",
        "    dl = h * math.sqrt(S[0]**2 + S[1]**2) / (math.sqrt(x0[0]**2 + x0[1]**2))\n",
        "\n",
        "    f1 = func(x0[0] + dl * S[0], x0[1] + dl * S[1])\n",
        "    f2 = func(x0[0] - dl * S[0], x0[1] - dl * S[1])\n",
        "\n",
        "    if f1 <= y0:\n",
        "        s = 1\n",
        "        x.append([x0[0] + dl * S[0], x0[1] + dl * S[1]])\n",
        "        y.append(f1)\n",
        "    elif f2 <= y0:\n",
        "        s = -1\n",
        "        x.append([x0[0] - dl * S[0], x0[1] - dl * S[1]])\n",
        "        y.append(f2)\n",
        "\n",
        "    dl = s*dl\n",
        "    while y[-2] >= y[-1]:\n",
        "        dl = dl*2\n",
        "        x.append([x[-1][0] + dl * S[0], x[-1][1] + dl * S[1]])\n",
        "        y.append(func(x[-1][0],x[-1][1]))\n",
        "\n",
        "    x.append([(x[-1][0] + x[-2][0]) / 2, (x[-1][1] + x[-2][1]) / 2])\n",
        "    y.append(func(x[-1][0],x[-1][1]))\n",
        "\n",
        "    n = y.index(min(y))\n",
        "    if len(x) >= n + 2:\n",
        "        return [x[n - 1], x[n + 1]]\n",
        "    else:\n",
        "        return [x[n - 1], x[n]]\n",
        "\n",
        "\n",
        "\n",
        "      \n",
        "def complex_method(iteration=0):\n",
        "\n",
        "  \n",
        "  dots = [x0]\n",
        "  for i in range(p-1):\n",
        "    new_dot_x1 = x0[0] + random()*(high-low)\n",
        "    new_dot_x2 = x0[1] + random()*(high-low)\n",
        "    new_dot = [new_dot_x1,new_dot_x2]\n",
        "    dots.append(new_dot)\n",
        " \n",
        "\n",
        "\n",
        "  finish = False\n",
        "  while not finish:\n",
        "   \n",
        "    count = -1\n",
        "    for dot in dots:\n",
        "      index = dots.index(dot)\n",
        "      count+=1\n",
        "      if not ((dot[0] <= high and dot[0]>=low) and (dot[1]<=high and dot[1]>=low)):\n",
        "        x_c = np.array([0,0])\n",
        "        for i in range(count):\n",
        "          x_c = x_c + dots[i]\n",
        "        x_c = x_c/count\n",
        "        \n",
        "        dot = np.array(dot)\n",
        "        dot = list(dot + (x_c-dot)/2)\n",
        "        dots[index] = dot\n",
        "        if index != 0 and index != (len(dots)-1):\n",
        "          break\n",
        "      if index == (len(dots)-1) and ((dot[0] <= high and dot[0]>=low) and (dot[1]<=high and dot[1]>=low)):\n",
        "        finish = True\n",
        "\n",
        "  \n",
        "  starting_dots = dots.copy() \n",
        "  \n",
        "\n",
        "  check = 1\n",
        "  min_value = 1\n",
        "  \n",
        "\n",
        "  while check or min_value > e:\n",
        "      iteration+=1\n",
        "      meanings = []\n",
        "\n",
        "      for i in dots:\n",
        "        meanings.append(func(i[0],i[1]))\n",
        "\n",
        "\n",
        "      x_h = dots[meanings.index(max(meanings))]\n",
        "      F_max = max(meanings)\n",
        "\n",
        "\n",
        "      x_c = np.array([0,0])\n",
        "      for i in dots:\n",
        "        x_c = x_c + np.array(i)\n",
        "      x_c = x_c/len(dots)\n",
        "\n",
        "\n",
        "      x_nov = x_c + alpha*(x_c - np.array(x_h))\n",
        "\n",
        "\n",
        "      # Перевірка нової точки на допустимість\n",
        "      while (not ((x_nov[0] <= high and x_nov[0]>=low) and (x_nov[1]<=high and x_nov[1]>=low)) ) or (x_nov[0] == x_h[0] and x_nov[1] == x_h[1]):\n",
        "        x_nov = x_nov + (x_c-x_nov)/2\n",
        "    \n",
        "\n",
        "      F_x_nov = func(x_nov[0],x_nov[1])\n",
        "    \n",
        "      \n",
        "      trying = 0\n",
        "      while F_x_nov >= F_max:\n",
        "        trying += 1\n",
        "        x_nov = x_nov + (x_c-x_nov)/2\n",
        "        F_x_nov = func(x_nov[0],x_nov[1])\n",
        "        if iteration > 600 or trying > 600:\n",
        "          return complex_method()\n",
        "        \n",
        "\n",
        "\n",
        "      dots[dots.index(x_h)] = list(x_nov)\n",
        "\n",
        "      if iteration == 5:\n",
        "        middle_dots1 = dots.copy()\n",
        "\n",
        "      if iteration == 10:\n",
        "        middle_dots2 = dots.copy()\n",
        "\n",
        "      if iteration == 20:\n",
        "        middle_dots3 = dots.copy()\n",
        "\n",
        "      if iteration == 30:\n",
        "        middle_dots4 = dots.copy()\n",
        "\n",
        "      if iteration == 50:\n",
        "        middle_dots5 = dots.copy()  \n",
        "\n",
        "      if check_sign:\n",
        "        f = 0\n",
        "        for i in dots:\n",
        "          f = f + func(i[0],i[1])\n",
        "        f = f / len(dots)  \n",
        "        f_check = 0\n",
        "        for i in dots:\n",
        "          f_check = f_check + (func(i[0],i[1])-f)**2\n",
        "        f_check = (f_check/p)**0.5\n",
        "\n",
        "\n",
        "      else:\n",
        "        x = np.array([0,0])\n",
        "        for i in dots:\n",
        "          x = x + np.array(i)\n",
        "        x = x / len(dots)\n",
        "        x_check = np.array([0,0])\n",
        "        for i in dots:\n",
        "          x_check = x_check + (np.array(i) - x)**2\n",
        "        \n",
        "\n",
        "      min_dot = dots[meanings.index(min(meanings))]\n",
        "\n",
        "      min_value = func(min_dot[0],min_dot[1])\n",
        "      if check_sign:\n",
        "        check = f_check > var_e\n",
        "      else:\n",
        "        check = x_check[0] > e_for_x[0] and x_check[1] > e_for_x[1]\n",
        "\n",
        "\n",
        "\n",
        "      \n",
        "      \n",
        "  print(\"Starting points: \",starting_dots)\n",
        "  min_dot = dots[meanings.index(min(meanings))]\n",
        "  print(\"Minimum value: \", func(min_dot[0],min_dot[1]))\n",
        "  print(\"Resulting point: \",min_dot)\n",
        "  print(f'Done on {iteration} iteration')\n",
        "  plt.scatter([i[0] for i in starting_dots],[i[1] for i in starting_dots], color = \"blue\")\n",
        "  plt.scatter([i[0] for i in middle_dots1],[i[1] for i in middle_dots1], color = \"yellow\")\n",
        "  if iteration >= 10:\n",
        "    plt.scatter([i[0] for i in middle_dots2],[i[1] for i in middle_dots2], color = \"red\")\n",
        "  if iteration >= 20:\n",
        "    plt.scatter([i[0] for i in middle_dots3],[i[1] for i in middle_dots3], color = \"green\")\n",
        "  if iteration >= 30:\n",
        "    plt.scatter([i[0] for i in middle_dots4],[i[1] for i in middle_dots4], color = \"pink\")\n",
        "  if iteration >= 50:\n",
        "    plt.scatter([i[0] for i in middle_dots5],[i[1] for i in middle_dots5], color = \"purple\")\n",
        "  plt.scatter([i[0] for i in dots],[i[1] for i in dots], color='black')\n",
        "  plt.xlabel(\"x1\")\n",
        "  plt.ylabel(\"x2\")\n",
        "\n"
      ],
      "execution_count": 10,
      "outputs": []
    },
    {
      "cell_type": "markdown",
      "metadata": {
        "id": "ABK3Ognbuet0"
      },
      "source": [
        "### Виконання досліджень"
      ]
    },
    {
      "cell_type": "markdown",
      "metadata": {
        "id": "0LgUYJ1tf4WI"
      },
      "source": [
        "Виконаємо еталонну спробу, використавши усі рекомендовані вхідні дані, щоб потім порівнювати результати з використанням інших параметрів. Знаємо, що локальний мінімум степеневої функції знаходиться в точці $[1,1]$ та дорівнює $0.$\n",
        "\n",
        "Візьмемо:\n",
        "\n",
        "Похибка $e_f=10^{-6}$\n",
        "\n",
        "Розмірність простору $n=2$\n",
        "\n",
        "Параметр відображення $\\alpha=1.3$\n",
        "\n",
        "Розмірність комплексу $p=2n=4$\n",
        "\n",
        "Початкова строго допустима точка $x_0 = [-1.2,0]$\n",
        "\n",
        "Графік показує як змінювалось розташування точок: початкові точки сині, потім жовті, червоні, ..., та кінцеві - чорні.\n",
        "\n",
        "Обмеження будемо розраховувати за алгоритмом Свена. (для зручності оберемо однакові обмеження на обидва параметри)\n",
        "\n",
        "На виході маємо отримати випуклу область з лінійними обмеженнями, до якої належить початкова точка та локальний мінімум функції.\n",
        "\n",
        "Ми будемо працювати лише в областях з лінійними обмеженнями, оскільки комплексний метод - метод нульового порядку, який не передбачає використання похідних та рух по кривим лініям, це облегшить подальші дослідження методу, адже на практиці алгоритм можно модифікувати для більш складних випадків з нелінійними областями.\n",
        "\n"
      ]
    },
    {
      "cell_type": "code",
      "metadata": {
        "colab": {
          "base_uri": "https://localhost:8080/",
          "height": 367
        },
        "id": "UVIb0dtSCK4a",
        "outputId": "65eaf658-d8dd-41be-b56e-f6b4f050b161"
      },
      "source": [
        "var_e = 10**(-6)\n",
        "e = 10**(-6)\n",
        "e_for_x = [0.001,0.001]\n",
        "n = 2\n",
        "alpha = 1.3\n",
        "p = 2*n\n",
        "x0 = [-1.2,0]\n",
        "high = sven(x0, [1,0])[1][0]\n",
        "low = sven(x0, [0,1])[0][1]\n",
        "check_sign = True\n",
        "print(f'{low} <= x1,x2 <= {high}')\n",
        "complex_method()"
      ],
      "execution_count": 108,
      "outputs": [
        {
          "output_type": "stream",
          "text": [
            "-1.7058333333333335 <= x1,x2 <= 2.2125000000000004\n",
            "Starting points:  [[-1.2, 0], [0.3783805357425143, 1.1078387207037073], [0.8193940985526662, 1.721985092552487], [-0.9548226801452996, 0.804347394881767]]\n",
            "Minimum value:  7.061903976178961e-11\n",
            "Resulting point:  [0.9476472177480613, 0.9436714458856655]\n",
            "Done on 13 iteration\n"
          ],
          "name": "stdout"
        },
        {
          "output_type": "display_data",
          "data": {
            "image/png": "[encoded data removed]",
            "text/plain": [
              "<Figure size 432x288 with 1 Axes>"
            ]
          },
          "metadata": {
            "tags": [],
            "needs_background": "light"
          }
        }
      ]
    },
    {
      "cell_type": "markdown",
      "metadata": {
        "id": "2PWN1ErIq_Sh"
      },
      "source": [
        "Отже, результат еталонної спроби наступний:\n",
        "\n",
        "Кількість ітерацій - $13$\n",
        "\n",
        "Точність - $10^{-10}$"
      ]
    },
    {
      "cell_type": "markdown",
      "metadata": {
        "id": "jExem9LorOlO"
      },
      "source": [
        "####Змінимо розміри початкового комплексу $p$"
      ]
    },
    {
      "cell_type": "code",
      "metadata": {
        "colab": {
          "base_uri": "https://localhost:8080/",
          "height": 405
        },
        "id": "aQd2pFLrrO8D",
        "outputId": "958c04c4-78b0-4cba-c48a-07521d6c7d1a"
      },
      "source": [
        "p = 4*n\n",
        "print(\"p = 8\")\n",
        "print(f'{low} <= x1,x2 <= {high}')\n",
        "complex_method()"
      ],
      "execution_count": 67,
      "outputs": [
        {
          "output_type": "stream",
          "text": [
            "p = 8\n",
            "-1.7058333333333335 <= x1,x2 <= 2.2125000000000004\n",
            "Starting points:  [[-1.2, 0], [1.1322892179573307, 1.6858775724161061], [0.4162849083886443, 1.5888984411226001], [1.3055944905335177, 1.6509476654989657], [0.018483749873780986, 1.7902308633313258], [0.7504458570207513, 1.8174230096233417], [0.4051952379728274, 1.5123193921270466], [1.4994306211929207, 1.5985789182563028]]\n",
            "Minimum value:  2.0848365506586995e-10\n",
            "Resulting point:  [0.9948737262239118, 0.97544800904545]\n",
            "Done on 46 iteration\n"
          ],
          "name": "stdout"
        },
        {
          "output_type": "display_data",
          "data": {
            "image/png": "[encoded data removed]",
            "text/plain": [
              "<Figure size 432x288 with 1 Axes>"
            ]
          },
          "metadata": {
            "tags": [],
            "needs_background": "light"
          }
        }
      ]
    },
    {
      "cell_type": "code",
      "metadata": {
        "colab": {
          "base_uri": "https://localhost:8080/",
          "height": 385
        },
        "id": "mMcEwle-rpYd",
        "outputId": "3aefe5e1-5163-43fb-cbae-577426acca2b"
      },
      "source": [
        "p = 2*n-1\n",
        "print(\"p = 3\")\n",
        "print(f'{low} <= x1,x2 <= {high}')\n",
        "complex_method()"
      ],
      "execution_count": 5,
      "outputs": [
        {
          "output_type": "stream",
          "text": [
            "p = 3\n",
            "-1.7058333333333335 <= x1,x2 <= 2.2125000000000004\n",
            "Starting points:  [[-1.2, 0], [-0.5043035986005078, 1.7751117183157732], [0.9575524794878187, 1.4659928152010717]]\n",
            "Minimum value:  6.837610851829298e-07\n",
            "Resulting point:  [0.8556521885794414, 0.8275104904097059]\n",
            "Done on 11 iteration\n"
          ],
          "name": "stdout"
        },
        {
          "output_type": "display_data",
          "data": {
            "image/png": "[encoded data removed]",
            "text/plain": [
              "<Figure size 432x288 with 1 Axes>"
            ]
          },
          "metadata": {
            "tags": [],
            "needs_background": "light"
          }
        }
      ]
    },
    {
      "cell_type": "markdown",
      "metadata": {
        "id": "i8Azq_HXsSfO"
      },
      "source": [
        "Робимо висновок, про те, що при вдалих початкових точках(близьких до локального мінімуму) менша кількість точок в початковому комплексі забезпечує велику швидкість виконання розрахунків, але якщо звернути увагу на те, що точки отримуються псевдовипадково, то краще збільшити кількість точок в початковому комплексі, бо якісний результат є важливішим за швидкість виконання. Також робимо висновок про те, що кількість точок в початковому комплексі $p=2n$ є найкращою, бо утримується баланс між швидкістю та якістю реалізації алгоритму."
      ]
    },
    {
      "cell_type": "markdown",
      "metadata": {
        "id": "ZdJJf3IXtICY"
      },
      "source": [
        "####Змінимо значення параметру відображення $\\alpha$"
      ]
    },
    {
      "cell_type": "code",
      "metadata": {
        "colab": {
          "base_uri": "https://localhost:8080/",
          "height": 385
        },
        "id": "kkKzb8kMurQG",
        "outputId": "72f286ee-8281-41cb-c548-8cb462430400"
      },
      "source": [
        "p = 2*n\n",
        "alpha = 0.5\n",
        "print(\"alpha = 0.5\")\n",
        "print(f'{low} <= x1,x2 <= {high}')\n",
        "complex_method()"
      ],
      "execution_count": 110,
      "outputs": [
        {
          "output_type": "stream",
          "text": [
            "alpha = 0.5\n",
            "-1.7058333333333335 <= x1,x2 <= 2.2125000000000004\n",
            "Starting points:  [[-1.2, 0], [0.7089769910192936, 1.2541192916299793], [-1.1000386020410207, 0.9094279470730813], [2.1338675620284286, 1.1934141571987213]]\n",
            "Minimum value:  1.0474469262265598e-08\n",
            "Resulting point:  [0.9146607980608292, 0.8978269512303519]\n",
            "Done on 9 iteration\n"
          ],
          "name": "stdout"
        },
        {
          "output_type": "display_data",
          "data": {
            "image/png": "[encoded data removed]",
            "text/plain": [
              "<Figure size 432x288 with 1 Axes>"
            ]
          },
          "metadata": {
            "tags": [],
            "needs_background": "light"
          }
        }
      ]
    },
    {
      "cell_type": "code",
      "metadata": {
        "colab": {
          "base_uri": "https://localhost:8080/",
          "height": 385
        },
        "id": "-tJsPBSfu1Yf",
        "outputId": "69da8b52-b8cd-48fa-fa57-aeb327850b67"
      },
      "source": [
        "alpha = 1\n",
        "print(\"alpha = 1\")\n",
        "print(f'{low} <= x1,x2 <= {high}')\n",
        "complex_method()"
      ],
      "execution_count": 116,
      "outputs": [
        {
          "output_type": "stream",
          "text": [
            "alpha = 1\n",
            "-1.7058333333333335 <= x1,x2 <= 2.2125000000000004\n",
            "Starting points:  [[-1.2, 0], [1.868998715685476, 0.7362818192863694], [0.6914869649469415, 1.526511945701356], [-0.8581107469975596, 1.7843982961831064]]\n",
            "Minimum value:  8.09610686604853e-09\n",
            "Resulting point:  [1.0751593796344423, 1.0947470300927276]\n",
            "Done on 14 iteration\n"
          ],
          "name": "stdout"
        },
        {
          "output_type": "display_data",
          "data": {
            "image/png": "[encoded data removed]",
            "text/plain": [
              "<Figure size 432x288 with 1 Axes>"
            ]
          },
          "metadata": {
            "tags": [],
            "needs_background": "light"
          }
        }
      ]
    },
    {
      "cell_type": "code",
      "metadata": {
        "colab": {
          "base_uri": "https://localhost:8080/",
          "height": 405
        },
        "id": "QguSti27u1id",
        "outputId": "117260d7-fc71-4078-ed64-7c66b4e16455"
      },
      "source": [
        "alpha = 2\n",
        "print(\"alpha = 2\")\n",
        "print(f'{low} <= x1,x2 <= {high}')\n",
        "complex_method()"
      ],
      "execution_count": 79,
      "outputs": [
        {
          "output_type": "stream",
          "text": [
            "alpha = 2\n",
            "-1.7058333333333335 <= x1,x2 <= 2.2125000000000004\n",
            "Starting points:  [[-1.2, 0], [0.3487339582887421, 1.3724446724269208], [-0.11165332146175144, 2.1656349889976765], [-0.23447364027990725, 2.0876054796364567], [-0.3332597022929934, 1.900814534532672], [-0.3859740059784563, 2.003114971818934], [1.1845203255982122, 1.0750475373039807], [0.5518290781592974, 2.049425182798022]]\n",
            "Minimum value:  4.1091957561343226e-10\n",
            "Resulting point:  [1.0627110524396182, 1.0702587238328272]\n",
            "Done on 64 iteration\n"
          ],
          "name": "stdout"
        },
        {
          "output_type": "display_data",
          "data": {
            "image/png": "[encoded data removed]",
            "text/plain": [
              "<Figure size 432x288 with 1 Axes>"
            ]
          },
          "metadata": {
            "tags": [],
            "needs_background": "light"
          }
        }
      ]
    },
    {
      "cell_type": "markdown",
      "metadata": {
        "id": "kDOzqnrevo-k"
      },
      "source": [
        "Можемо бачити, що при стисненні точок маємо дуже швидко порахований результат, який програє в точності іншим результатам. При симетричному відображенні маємо середній результат з трьох експериментів, який схожий по значенням на еталонний, але всеодно програє йому в точності та швидкості. При більш сильному розтягненні точок маємо доволі точний результат, але зроблений за дуже велику кількість ітерацій. Робимо висновок, що значення параметру відображення $\\alpha=1.3$ є найкращим, бо при такому значенні утримується баланс між точністю та швидкістю розрахунків."
      ]
    },
    {
      "cell_type": "markdown",
      "metadata": {
        "id": "zYKRZX7rxZ9U"
      },
      "source": [
        "#### Модифікуємо метод, узявши за критерій закінчення, перевірку за точками, а не за значеннями функцій"
      ]
    },
    {
      "cell_type": "markdown",
      "metadata": {
        "id": "loYBIFfk6V9_"
      },
      "source": [
        "Візьмемо поточкову точність $e_x=[0.001,0.001]$"
      ]
    },
    {
      "cell_type": "code",
      "metadata": {
        "colab": {
          "base_uri": "https://localhost:8080/",
          "height": 367
        },
        "id": "9rmnrdpqxjab",
        "outputId": "f99f3118-6ece-45ae-97b6-5bcbd6e72473"
      },
      "source": [
        "alpha = 1.3\n",
        "check_sign = False\n",
        "print(f'{low} <= x1,x2 <= {high}')\n",
        "complex_method()"
      ],
      "execution_count": 122,
      "outputs": [
        {
          "output_type": "stream",
          "text": [
            "-1.7058333333333335 <= x1,x2 <= 2.2125000000000004\n",
            "Starting points:  [[-1.2, 0], [0.24704173150087394, 0.15542504222334735], [-0.2783850934877265, 1.4534954839930594], [0.1774954485936232, 1.7522572027297842]]\n",
            "Minimum value:  6.755996215026027e-14\n",
            "Resulting point:  [1.0225117716560925, 1.0230637291572882]\n",
            "Done on 33 iteration\n"
          ],
          "name": "stdout"
        },
        {
          "output_type": "display_data",
          "data": {
            "image/png": "[encoded data removed]",
            "text/plain": [
              "<Figure size 432x288 with 1 Axes>"
            ]
          },
          "metadata": {
            "tags": [],
            "needs_background": "light"
          }
        }
      ]
    },
    {
      "cell_type": "markdown",
      "metadata": {
        "id": "XBJwOzAZx7JC"
      },
      "source": [
        "Суттєвих змін не спостерігаємо, але можна звернути увагу на те, що трохи зросла точність методу, за рахунок його уповільнення, можливо такий критерій закінчення краще підходить для випадків, коли точність є набагато важливішим аспектом, ніж швидкість."
      ]
    },
    {
      "cell_type": "markdown",
      "metadata": {
        "id": "98930LVbyihL"
      },
      "source": [
        "#### Візьмемо область, в яку локальний мінімум не входить"
      ]
    },
    {
      "cell_type": "markdown",
      "metadata": {
        "id": "-74Lfxtw0OSE"
      },
      "source": [
        "Знаємо, що глобальний мінімум в обраній області $[-1.5,0.5]$ знаходиться в точці $[0.5,0.5]$, та дорівнює $0.00390625\n",
        "$ "
      ]
    },
    {
      "cell_type": "code",
      "metadata": {
        "colab": {
          "base_uri": "https://localhost:8080/",
          "height": 367
        },
        "id": "NBu_S-hRyq69",
        "outputId": "363e6331-e39b-4309-c4bf-49a9333f9fe2"
      },
      "source": [
        "check_sign = True\n",
        "e = 0.004\n",
        "high = 0.5\n",
        "low = -1.5\n",
        "print(f'{low} <= x1,x2 <= {high}')\n",
        "complex_method()"
      ],
      "execution_count": 9,
      "outputs": [
        {
          "output_type": "stream",
          "text": [
            "-1.5 <= x1,x2 <= 0.5\n",
            "Starting points:  [[-1.2, 0], [0.35867093698023633, 0.0033556950860984536], [-0.6145115899553399, 0.33933135999486935], [-0.6635666231755908, 0.3090207393443564]]\n",
            "Minimum value:  0.0039413378276432565\n",
            "Resulting point:  [0.4998269727695447, 0.4936103268388746]\n",
            "Done on 42 iteration\n"
          ],
          "name": "stdout"
        },
        {
          "output_type": "display_data",
          "data": {
            "image/png": "[encoded data removed]",
            "text/plain": [
              "<Figure size 432x288 with 1 Axes>"
            ]
          },
          "metadata": {
            "tags": [],
            "needs_background": "light"
          }
        }
      ]
    },
    {
      "cell_type": "markdown",
      "metadata": {
        "id": "UhxdrVsg01oP"
      },
      "source": [
        "Вдалося знайти глобальний мінімум з точністю $10^{-4}$ за 42 ітерації. Коли локальний мінімум знаходиться всередині допустимої області, то метод рахує більш точно та швидко, бо такий алгоритм дуже важно переносить ситуації, коли треба шукати мінімум на границі області. Отже, алгоритм доволі точно, але не дуже швидко працює з ситуацією, коли треба знайти глобальний, а не локальний мінімум."
      ]
    },
    {
      "cell_type": "markdown",
      "metadata": {
        "id": "EdS-RzGM7ftn"
      },
      "source": [
        "#### Змінимо параметр кроку $h$ в алгоритмі Свена"
      ]
    },
    {
      "cell_type": "code",
      "metadata": {
        "colab": {
          "base_uri": "https://localhost:8080/",
          "height": 367
        },
        "id": "hmF4Pff47mb2",
        "outputId": "6ece7847-a47d-4364-becb-8b158ece0636"
      },
      "source": [
        "e = 10**(-6)\n",
        "high = sven(x0, [1,0],0.1)[1][0]\n",
        "low = sven(x0, [0,1],0.1)[0][0]\n",
        "print(f'{low} <= x1,x2 <= {high}')\n",
        "complex_method()"
      ],
      "execution_count": 59,
      "outputs": [
        {
          "output_type": "stream",
          "text": [
            "-1.2 <= x1,x2 <= 1.3833333333333337\n",
            "Starting points:  [[-1.2, 0], [-0.5965387038773516, 0.13308055494111826], [0.21770188350210984, 1.1325302509852486], [1.2892505150903928, 1.2903581360579395]]\n",
            "Minimum value:  9.671969648840094e-07\n",
            "Resulting point:  [1.1538758506471813, 1.1261586792379006]\n",
            "Done on 14 iteration\n"
          ],
          "name": "stdout"
        },
        {
          "output_type": "display_data",
          "data": {
            "image/png": "[encoded data removed]",
            "text/plain": [
              "<Figure size 432x288 with 1 Axes>"
            ]
          },
          "metadata": {
            "tags": [],
            "needs_background": "light"
          }
        }
      ]
    },
    {
      "cell_type": "code",
      "metadata": {
        "colab": {
          "base_uri": "https://localhost:8080/",
          "height": 367
        },
        "id": "EpvtX0d98NcQ",
        "outputId": "c3955238-2862-4214-eee3-a96c4ebbf468"
      },
      "source": [
        "high = sven(x0, [1,0],0.0001)[1][0]\n",
        "low = sven(x0, [0,1],0.0001)[0][0]\n",
        "print(f'{low} <= x1,x2 <= {high}')\n",
        "complex_method()"
      ],
      "execution_count": 61,
      "outputs": [
        {
          "output_type": "stream",
          "text": [
            "-1.2 <= x1,x2 <= 1.5305833333333339\n",
            "Starting points:  [[-1.2, 0], [-0.838943834020335, 1.4838866273894593], [0.19395124718797718, 1.4620608675433606], [0.035576628767761465, 0.20628755962924464]]\n",
            "Minimum value:  9.576025037490251e-08\n",
            "Resulting point:  [1.127713117176363, 1.116396782920488]\n",
            "Done on 19 iteration\n"
          ],
          "name": "stdout"
        },
        {
          "output_type": "display_data",
          "data": {
            "image/png": "[encoded data removed]",
            "text/plain": [
              "<Figure size 432x288 with 1 Axes>"
            ]
          },
          "metadata": {
            "tags": [],
            "needs_background": "light"
          }
        }
      ]
    },
    {
      "cell_type": "markdown",
      "metadata": {
        "id": "UB-DRg3P9WYw"
      },
      "source": [
        "Оскільки в алгоритмі Свена величина кроку обернено пропорційна точності результату та кількості ітерацій, то ми отримали доволі очікуваний результат, дослід з величиною кроку $h=\\frac{1}{10}$ показав швидкий, але не дуже точний результат, а дослід з величиною кроку $h=\\frac{1}{10^4}$ напроти, показав точний, але доволі повільний результат. Найкращою величиною кроку в алгоритмі Свена у рамках даних дослідів, можна важати величину $h=0.001$"
      ]
    },
    {
      "cell_type": "markdown",
      "metadata": {
        "id": "ce7OI19_2jzx"
      },
      "source": [
        "#### Пояснення причини, через яку алгоритм не працює з невипуклими областями"
      ]
    },
    {
      "cell_type": "markdown",
      "metadata": {
        "id": "QKJTncH42rEy"
      },
      "source": [
        "Комплексний метод не призначений для роботи з невипуклими областям по тій причині, що ми шукаємо центр тяжіння усіх точок. У випадку невипуклої області він може знаходитися поза нею, а в даному алгоритмі, нажаль, ніяк не перевіряється допустимість цієї точки, бо ми від самого початку важаємо, що центр тяжіння допустимих точок є допустимою точкою. Що ж саме відбувається, коли центр тяжіння опиняється поза допустимою областю? По великому рахунку не важливо де знаходиться центр тяжіння, але якщо точка, яку ми шукаємо на заміну найгіршій з існуючий, опиниться разом з центром тяжіння поза допустимої області, то ми, згідно алгоритму, маємо приближати цю точку, до центру тяжіння, щоб добитися її допустимості, але це в більшості випадків неможливо, адже між центром тяжіння та новою точкою попросту може не бути допустимої області."
      ]
    },
    {
      "cell_type": "markdown",
      "metadata": {
        "id": "UHpjcMNC_MM6"
      },
      "source": [
        "## Висновки"
      ]
    },
    {
      "cell_type": "markdown",
      "metadata": {
        "id": "JXcy148m_-Dx"
      },
      "source": [
        "Отже, в ході виконання курсової роботи ми дослідили на практиці комплексний метод при мінімізації степеневої функції, при пошуку допустимої області ми використовували алгоритм Свена, та робили досліди з ним також.\n",
        "\n",
        "В підсумку маємо  наступні умовиводи:\n",
        "\n",
        "* Невеликі зміни параметрів методу, суттєво впливают на результат.\n",
        "\n",
        "* Зміни параметрів методу в різні боки від рекомендованих, дают протилежні за точністю та швидкістю результати, які в сумі програють результатам при дослідах з оптимальними значеннями параметрів. Тому, скоріш за все, оптимальні значення параметрів Бокса були пораховані емпірично, а не аналітично.\n",
        "\n",
        "* При використанні різних критерієв закінчення, отримуємо різні за точністю та швидкістю результати, за якими важко визначити, який з критерієв є кращим, але скоріш за все, після великої кількості дослідів, буде зрозуміло, що критерії закінчення однакові по своїй суті.\n",
        "\n",
        "* Алгоритм погано справляється із знаходженням глобального мінімуму на границі області, але не так погано, як можно було очікувати від методу нульового порядку, нам вдалося досягти точності аж $10^{-4}$\n",
        "\n",
        "* На перший погляд сдавалось, що параметр кроку $h$ в алгоритмі Свена та параметр відображення $\\alpha$ в алгоритмі комплексів це два дуже схожих по своїй суті параметра, але це не зовсім правильний умовивід. Суттєві відхилення від оптимального значення кроку $h$ дає аномально велику\\малу кількість ітерацій, та велику\\малу точність розрахунків при зменшенні\\збільшенні значення кроку $h$. З параметром відображення все не так просто, адже вплив параметру відображення сильно корелюється з координатами початкових точок, так, наприклад, можуть бути сгенеровані точки, які добре було б розтягувати, а ми вирішили обрати значення $\\alpha = 0.5$ і алгоритму доведется стискати точки, які він міг би розтягнути швидше і точніше.\n",
        "\n",
        "Було пояснено причину, чому комплексний метод не працює з невипуклими областями, це безумовно є його слабкою стороною, але як для методу нульового порядку, алгоритм комплексів є доволі сильним і комфортним, адже на відміну від методу Нелдера-Міда нам не треба хвилюватись, що в ході виконання алгоритму будуть зустрічатись повторювані обмеження."
      ]
    },
    {
      "cell_type": "markdown",
      "metadata": {
        "id": "Qbh103m8Io3w"
      },
      "source": [
        "## Список використаної літератури"
      ]
    },
    {
      "cell_type": "markdown",
      "metadata": {
        "id": "-MIflHDmIs8d"
      },
      "source": [
        "1. Аоки М. Ведение в методы оптимизации. М.: Наука. 1977. 344с.\n",
        "\n",
        "2. Гольштейн Е.Г., Юдин Д.Б. Задачи линейного программирования. - M.: Наука, 1969. - 382с.\n",
        "\n",
        "3. Фурунжиев Р.И., Бабушкин Ф.М., Варавко В.В. Применение математических методов. Мн.: Выш.шк. 1988. 191с.\n",
        "\n",
        "4.  Савин А. Н., Шараевский Ю.,П., Тимофеева Н. Е. Модификация комплексного метода условной оптимизации Бокса // СВЧ-техника и телекоммуникационные технологии : материалы 15-й междунар. Крымской конф. (КрыМиКо2005). Украина. Севастополь : Вебер, 2005. С. 779-780."
      ]
    }
  ]
}